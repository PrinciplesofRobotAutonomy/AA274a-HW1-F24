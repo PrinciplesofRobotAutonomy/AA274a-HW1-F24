{
  "cells": [
    {
      "cell_type": "markdown",
      "metadata": {},
      "source": [
        "# RRT Sampling-Based Motion Planning"
      ]
    },
    {
      "cell_type": "code",
      "execution_count": 1,
      "metadata": {},
      "outputs": [],
      "source": [
        "# The autoreload extension will automatically load in new code as you edit files, \n",
        "# so you don't need to restart the kernel every time\n",
        "%load_ext autoreload\n",
        "%autoreload 2\n",
        "\n",
        "import numpy as np\n",
        "import matplotlib.pyplot as plt\n",
        "from P2_rrt import *\n",
        "\n",
        "plt.rcParams['figure.figsize'] = [8, 8] # Change default figure size"
      ]
    },
    {
      "cell_type": "markdown",
      "metadata": {},
      "source": [
        "### Set up workspace"
      ]
    },
    {
      "cell_type": "code",
      "execution_count": null,
      "metadata": {},
      "outputs": [],
      "source": [
        "MAZE = np.array([\n",
        "    ((10,10), ( 0,10)),\n",
        "    (( 0,10), ( 0, 0)),\n",
        "    (( 0, 0), (10, 0)),\n",
        "    ((10, 0), (10,10)),\n",
        "\n",
        "    (( 4, 3), ( 4, 2)),\n",
        "    (( 4, 3), ( 2, 3)),\n",
        "    (( 2, 2), ( 2, 3)),\n",
        "    (( 2, 2), ( 4, 2)),\n",
        "\n",
        "    (( 8, 8), ( 6, 8)),\n",
        "    (( 8, 8), ( 8, 7)),\n",
        "    (( 6, 7), ( 6, 8)),\n",
        "    (( 6, 7), ( 8, 7)),\n",
        "    \n",
        "    (( 8, 5), ( 6, 5)),\n",
        "    (( 8, 5), ( 8, 3)),\n",
        "    (( 6, 3), ( 6, 5)),\n",
        "    (( 6, 3), ( 8, 3)),\n",
        "    \n",
        "    (( 4, 7), ( 4, 5)),\n",
        "    (( 4, 7), ( 2, 7)),\n",
        "    (( 2, 5), ( 2, 7)),\n",
        "    (( 2, 5), ( 4, 5))\n",
        "])\n",
        "\n",
        "# try changing these!\n",
        "x_init = [1,9] # reset to [1,9] when saving results for submission\n",
        "x_goal = [9,1] # reset to [9,1] when saving results for submission"
      ]
    },
    {
      "cell_type": "markdown",
      "metadata": {},
      "source": [
        "## Geometric Planning"
      ]
    },
    {
      "cell_type": "code",
      "execution_count": null,
      "metadata": {},
      "outputs": [],
      "source": [
        "grrt = GeometricRRT([0,0], [10,10], x_init, x_goal, MAZE)\n",
        "grrt.solve(1.0, 2000)"
      ]
    },
    {
      "cell_type": "markdown",
      "metadata": {},
      "source": [
        "### Adding shortcutting"
      ]
    },
    {
      "cell_type": "code",
      "execution_count": null,
      "metadata": {},
      "outputs": [],
      "source": [
        "grrt.solve(1.0, 2000, shortcut=True)"
      ]
    }
  ],
  "metadata": {
    "kernelspec": {
      "display_name": "Python 3.9.10 64-bit",
      "language": "python",
      "name": "python3"
    },
    "language_info": {
      "codemirror_mode": {
        "name": "ipython",
        "version": 3
      },
      "file_extension": ".py",
      "mimetype": "text/x-python",
      "name": "python",
      "nbconvert_exporter": "python",
      "pygments_lexer": "ipython3",
      "version": "3.10.12"
    },
    "vscode": {
      "interpreter": {
        "hash": "aee8b7b246df8f9039afb4144a1f6fd8d2ca17a180786b69acc140d282b71a49"
      }
    }
  },
  "nbformat": 4,
  "nbformat_minor": 4
}
